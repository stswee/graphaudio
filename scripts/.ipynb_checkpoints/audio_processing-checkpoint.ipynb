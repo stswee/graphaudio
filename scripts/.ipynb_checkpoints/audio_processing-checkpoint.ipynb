{
 "cells": [
  {
   "cell_type": "code",
   "execution_count": 3,
   "id": "5b94a783-a782-4a71-aa20-301221be4a3e",
   "metadata": {},
   "outputs": [],
   "source": [
    "import os\n",
    "import wfdb\n",
    "import numpy as np\n",
    "from collections import defaultdict\n",
    "from sklearn.utils import resample"
   ]
  },
  {
   "cell_type": "code",
   "execution_count": 6,
   "id": "10861ea1-3203-4bf0-8531-035c9d118087",
   "metadata": {},
   "outputs": [],
   "source": [
    "# Parameters (dataset and user dependent)\n",
    "SAMPLE_RATE = 8000\n",
    "REMOVE_SAMPLES = int(0.15 * SAMPLE_RATE)     # 1200\n",
    "WINDOW_SIZE = 8192                           # 1.024 sec\n",
    "STEP_SIZE = 4096                             # 50% overlap\n",
    "# NUM_CLASSES = 4                              # Example\n",
    "# SAMPLES_PER_CLASS = 260"
   ]
  },
  {
   "cell_type": "code",
   "execution_count": 9,
   "id": "3ad10d76-fd36-4c60-a15e-cbc3aa3252e1",
   "metadata": {},
   "outputs": [],
   "source": [
    "def load_signal(record_path):\n",
    "    signal, fields = wfdb.rdsamp(record_path)\n",
    "    return signal.flatten()\n",
    "\n",
    "def sliding_window(signal):\n",
    "    segments = []\n",
    "    for start in range(0, len(signal) - WINDOW_SIZE + 1, STEP_SIZE):\n",
    "        segment = signal[start:start + WINDOW_SIZE]\n",
    "        if len(segment) == WINDOW_SIZE:\n",
    "            segments.append(segment)\n",
    "    return segments\n",
    "\n",
    "def parse_label(record_path):\n",
    "    with open(record_path + \".hea\", \"r\") as f:\n",
    "        for line in f:\n",
    "            if line.startswith(\"#\"):\n",
    "                if \"<diagnoses>:\" in line:\n",
    "                    diag = line.split(\"<diagnoses>:\")[1].split(\"<\")[0].strip()\n",
    "                    return diag\n",
    "    return \"unknown\"\n",
    "\n",
    "def process_all_records(folder):\n",
    "    all_segments = defaultdict(list)\n",
    "    for rec_name in sorted(os.listdir(folder)):\n",
    "        if rec_name.endswith(\".hea\"):\n",
    "            base = rec_name.replace(\".hea\", \"\")\n",
    "            signal = load_signal(os.path.join(folder, base))[REMOVE_SAMPLES:]\n",
    "            label = parse_label(os.path.join(folder, base))\n",
    "            segments = sliding_window(signal)\n",
    "            all_segments[label].extend(segments)\n",
    "    return all_segments"
   ]
  },
  {
   "cell_type": "code",
   "execution_count": null,
   "id": "6b4c2074-13b2-4eee-b34b-ac8d4c0e578e",
   "metadata": {},
   "outputs": [],
   "source": []
  }
 ],
 "metadata": {
  "kernelspec": {
   "display_name": "Python 3 (ipykernel)",
   "language": "python",
   "name": "python3"
  },
  "language_info": {
   "codemirror_mode": {
    "name": "ipython",
    "version": 3
   },
   "file_extension": ".py",
   "mimetype": "text/x-python",
   "name": "python",
   "nbconvert_exporter": "python",
   "pygments_lexer": "ipython3",
   "version": "3.10.18"
  }
 },
 "nbformat": 4,
 "nbformat_minor": 5
}
